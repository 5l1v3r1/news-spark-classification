{
 "cells": [
  {
   "cell_type": "code",
   "execution_count": 13,
   "metadata": {
    "collapsed": true
   },
   "outputs": [],
   "source": [
    "#Control = http://localhost:4040/\n",
    "\n",
    "from pyspark.sql import SparkSession\n",
    "from pyspark import SparkContext, SparkConf\n",
    "from pyspark.sql.types import *\n",
    "from pyspark.sql.functions import length\n",
    "from pyspark.ml.feature import HashingTF, IDF, Tokenizer,StopWordsRemover, CountVectorizer,IDF,StringIndexer,VectorAssembler\n",
    "from pyspark.ml.linalg import Vector\n",
    "from pyspark.ml.classification import NaiveBayes\n",
    "from pyspark.ml import Pipeline\n",
    "from pyspark.ml.evaluation import MulticlassClassificationEvaluator\n",
    "import os\n"
   ]
  },
  {
   "cell_type": "code",
   "execution_count": 2,
   "metadata": {
    "collapsed": true
   },
   "outputs": [],
   "source": [
    "#Setting property\n",
    "\n",
    "conf = SparkConf()\n",
    "conf.setAppName('ml')\n",
    "conf.set(\"spark.driver.memory\",'8g')\n",
    "conf.set(\"spark.executor.memory\", '8g')\n",
    "sc = SparkContext(\n",
    "    conf=conf)\n",
    "\n",
    "spark = SparkSession \\\n",
    "    .builder \\\n",
    "    .master('local[*]') \\\n",
    "    .appName(\"ml\") \\\n",
    "    .config(\"spark.driver.memory\",'8g') \\\n",
    "    .config(\"spark.executor.memory\", '8g')\\\n",
    "    .getOrCreate()\n",
    "\n"
   ]
  },
  {
   "cell_type": "code",
   "execution_count": 3,
   "metadata": {},
   "outputs": [
    {
     "name": "stdout",
     "output_type": "stream",
     "text": [
      "2792\n",
      "2792\n",
      "2792\n",
      "2792\n",
      "2792\n",
      "2792\n",
      "sum news :   16752\n"
     ]
    }
   ],
   "source": [
    "#Data load\n",
    "\n",
    "dunya_list = []\n",
    "ekonomi_list = []\n",
    "genel_list = []\n",
    "guncel_list = []\n",
    "magazin_list = []\n",
    "spor_list = []\n",
    "\n",
    "rootdir = \"16752news\"\n",
    "\n",
    "#Files are read end labeled\n",
    "for directories, subdirs, files in os.walk(rootdir):\n",
    "    if (os.path.split(directories)[1] == 'dunya'):\n",
    "        for filename in files:\n",
    "            with open(os.path.join(directories, filename), encoding=\"UTF-8\") as f:\n",
    "                data = f.read()\n",
    "\n",
    "                dunya_list.append((data, \"dunya\"))  # added to list\n",
    "\n",
    "    if (os.path.split(directories)[1] == 'ekonomi'):\n",
    "        for filename in files:\n",
    "            with open(os.path.join(directories, filename), encoding=\"UTF-8\") as f:\n",
    "                data = f.read()\n",
    "\n",
    "                ekonomi_list.append((data, \"ekonomi\"))\n",
    "\n",
    "    if (os.path.split(directories)[1] == 'genel'):\n",
    "        for filename in files:\n",
    "            with open(os.path.join(directories, filename), encoding=\"UTF-8\") as f:\n",
    "                data = f.read()\n",
    "\n",
    "                genel_list.append((data, \"genel\"))\n",
    "\n",
    "    if (os.path.split(directories)[1] == 'guncel'):\n",
    "        for filename in files:\n",
    "            with open(os.path.join(directories, filename), encoding=\"UTF-8\") as f:\n",
    "                data = f.read()\n",
    "\n",
    "                guncel_list.append((data, \"guncel\"))\n",
    "\n",
    "\n",
    "    if (os.path.split(directories)[1] == 'magazin'):\n",
    "        for filename in files:\n",
    "            with open(os.path.join(directories, filename), encoding=\"UTF-8\") as f:\n",
    "                data = f.read()\n",
    "\n",
    "                magazin_list.append((data, \"magazin\"))  # added to list\n",
    "\n",
    "\n",
    "    if (os.path.split(directories)[1] == 'spor'):\n",
    "        for filename in files:\n",
    "            with open(os.path.join(directories, filename), encoding=\"UTF-8\") as f:\n",
    "                data = f.read()\n",
    "\n",
    "                spor_list.append((data, \"spor\"))\n",
    "\n",
    "\n",
    "print(len(dunya_list))\n",
    "print(len(ekonomi_list))\n",
    "print(len(genel_list))\n",
    "print(len(guncel_list))\n",
    "print(len(magazin_list))\n",
    "print(len(spor_list))\n",
    "\n",
    "combined_list = []\n",
    "\n",
    "combined_list = dunya_list + ekonomi_list + genel_list + guncel_list  + magazin_list  + spor_list\n",
    "print(\"sum news :  \", len(combined_list))\n",
    "\n",
    "\n",
    "combined_list = sc.parallelize(combined_list, numSlices=100)    #parallelize operation\n",
    "\n",
    "#random.shuffle(combined_list) #mix the data\n",
    "\n"
   ]
  },
  {
   "cell_type": "code",
   "execution_count": 4,
   "metadata": {},
   "outputs": [
    {
     "name": "stdout",
     "output_type": "stream",
     "text": [
      "+--------------------+-----+\n",
      "|                text|class|\n",
      "+--------------------+-----+\n",
      "|Cameron'dan 'krit...|dunya|\n",
      "|Mısır'da referand...|dunya|\n",
      "|İran'ın Patriot t...|dunya|\n",
      "|Savcı, o çavuş iç...|dunya|\n",
      "|Fransız haber aja...|dunya|\n",
      "|Talabani, Ali Xey...|dunya|\n",
      "|İşte İran'ın son ...|dunya|\n",
      "|El Pais: PKK'lıla...|dunya|\n",
      "|Ünlü spekülatörde...|dunya|\n",
      "|Çocuklarını kafes...|dunya|\n",
      "|Ölü çocuklar ajan...|dunya|\n",
      "|Ahmedinejad'a aya...|dunya|\n",
      "|Azerbaycan sınırı...|dunya|\n",
      "|Kerkükte patlama:...|dunya|\n",
      "|İsrailde derin ç...|dunya|\n",
      "|İsrail askerleri ...|dunya|\n",
      "|Cezayir'de rehine...|dunya|\n",
      "|Katalonlar, İspan...|dunya|\n",
      "|Fransa’dan Mali'y...|dunya|\n",
      "|'Türkiye'ye yardı...|dunya|\n",
      "+--------------------+-----+\n",
      "only showing top 20 rows\n",
      "\n",
      "None\n",
      "root\n",
      " |-- text: string (nullable = true)\n",
      " |-- class: string (nullable = true)\n",
      "\n",
      "None\n"
     ]
    }
   ],
   "source": [
    "schemaString = \"text class\"\n",
    "\n",
    "fields = [StructField(field_name, StringType(), True) for field_name in schemaString.split()]\n",
    "schema = StructType(fields)\n",
    "\n",
    "data = spark.createDataFrame(combined_list, schema)\n",
    "\n",
    "print(data.show())\n",
    "print(data.printSchema())"
   ]
  },
  {
   "cell_type": "code",
   "execution_count": 5,
   "metadata": {},
   "outputs": [
    {
     "name": "stdout",
     "output_type": "stream",
     "text": [
      "+--------------------+-----+------+\n",
      "|                text|class|length|\n",
      "+--------------------+-----+------+\n",
      "|Cameron'dan 'krit...|dunya|  1505|\n",
      "|Mısır'da referand...|dunya|   927|\n",
      "|İran'ın Patriot t...|dunya|   899|\n",
      "|Savcı, o çavuş iç...|dunya|   752|\n",
      "|Fransız haber aja...|dunya|   769|\n",
      "|Talabani, Ali Xey...|dunya|  2093|\n",
      "|İşte İran'ın son ...|dunya|  1310|\n",
      "|El Pais: PKK'lıla...|dunya|  1727|\n",
      "|Ünlü spekülatörde...|dunya|   885|\n",
      "|Çocuklarını kafes...|dunya|   972|\n",
      "|Ölü çocuklar ajan...|dunya|  1579|\n",
      "|Ahmedinejad'a aya...|dunya|   535|\n",
      "|Azerbaycan sınırı...|dunya|   379|\n",
      "|Kerkükte patlama:...|dunya|   639|\n",
      "|İsrailde derin ç...|dunya|  2971|\n",
      "|İsrail askerleri ...|dunya|  1013|\n",
      "|Cezayir'de rehine...|dunya|  1818|\n",
      "|Katalonlar, İspan...|dunya|   662|\n",
      "|Fransa’dan Mali'y...|dunya|   891|\n",
      "|'Türkiye'ye yardı...|dunya|  1349|\n",
      "+--------------------+-----+------+\n",
      "only showing top 20 rows\n",
      "\n",
      "None\n"
     ]
    }
   ],
   "source": [
    "data = data.withColumn('length',length(data['text']))\n",
    "print(data.show())"
   ]
  },
  {
   "cell_type": "code",
   "execution_count": 6,
   "metadata": {},
   "outputs": [
    {
     "name": "stdout",
     "output_type": "stream",
     "text": [
      "root\n",
      " |-- text: string (nullable = true)\n",
      " |-- class: string (nullable = true)\n",
      " |-- length: integer (nullable = true)\n",
      "\n",
      "None\n",
      "+-------+------------------+\n",
      "|  class|       avg(length)|\n",
      "+-------+------------------+\n",
      "|   spor|1567.5157593123208|\n",
      "|  genel| 2047.307664756447|\n",
      "|ekonomi| 2322.356017191977|\n",
      "|magazin| 1148.374641833811|\n",
      "| guncel|1887.4222779369627|\n",
      "|  dunya|1380.0744985673352|\n",
      "+-------+------------------+\n",
      "\n",
      "None\n"
     ]
    }
   ],
   "source": [
    "print(data.printSchema())\n",
    "\n",
    "#Pretty Clear Difference\n",
    "print(data.groupby('class').mean().show())\n"
   ]
  },
  {
   "cell_type": "code",
   "execution_count": 7,
   "metadata": {},
   "outputs": [
    {
     "name": "stdout",
     "output_type": "stream",
     "text": [
      "+--------------------+-----+------+--------------------+\n",
      "|                text|class|length|               words|\n",
      "+--------------------+-----+------+--------------------+\n",
      "|Cameron'dan 'krit...|dunya|  1505|[cameron'dan, 'kr...|\n",
      "|Mısır'da referand...|dunya|   927|[mısır'da, refera...|\n",
      "|İran'ın Patriot t...|dunya|   899|[i̇ran'ın, patrio...|\n",
      "|Savcı, o çavuş iç...|dunya|   752|[savcı,, o, çavuş...|\n",
      "|Fransız haber aja...|dunya|   769|[fransız, haber, ...|\n",
      "|Talabani, Ali Xey...|dunya|  2093|[talabani,, ali, ...|\n",
      "|İşte İran'ın son ...|dunya|  1310|[i̇şte, i̇ran'ın,...|\n",
      "|El Pais: PKK'lıla...|dunya|  1727|[el, pais:, pkk'l...|\n",
      "|Ünlü spekülatörde...|dunya|   885|[ünlü, spekülatör...|\n",
      "|Çocuklarını kafes...|dunya|   972|[çocuklarını, kaf...|\n",
      "|Ölü çocuklar ajan...|dunya|  1579|[ölü, çocuklar, a...|\n",
      "|Ahmedinejad'a aya...|dunya|   535|[ahmedinejad'a, a...|\n",
      "|Azerbaycan sınırı...|dunya|   379|[azerbaycan, sını...|\n",
      "|Kerkükte patlama:...|dunya|   639|[kerkükte, patlam...|\n",
      "|İsrailde derin ç...|dunya|  2971|[i̇srailde, deri...|\n",
      "|İsrail askerleri ...|dunya|  1013|[i̇srail, askerle...|\n",
      "|Cezayir'de rehine...|dunya|  1818|[cezayir'de, rehi...|\n",
      "|Katalonlar, İspan...|dunya|   662|[katalonlar,, i̇s...|\n",
      "|Fransa’dan Mali'y...|dunya|   891|[fransa’dan, mali...|\n",
      "|'Türkiye'ye yardı...|dunya|  1349|['türkiye'ye, yar...|\n",
      "+--------------------+-----+------+--------------------+\n",
      "only showing top 20 rows\n",
      "\n"
     ]
    }
   ],
   "source": [
    "tokenizer = Tokenizer(inputCol=\"text\", outputCol=\"words\")\n",
    "wordsData = tokenizer.transform(data)\n",
    "wordsData.show()"
   ]
  },
  {
   "cell_type": "code",
   "execution_count": 8,
   "metadata": {
    "collapsed": true
   },
   "outputs": [],
   "source": [
    "tokenizer = Tokenizer(inputCol=\"text\", outputCol=\"token_text\")\n",
    "count_vec = CountVectorizer(inputCol='token_text',outputCol='c_vec')\n",
    "idf = IDF(inputCol=\"c_vec\", outputCol=\"tf_idf\")\n",
    "news_to_num = StringIndexer(inputCol='class',outputCol='label')\n"
   ]
  },
  {
   "cell_type": "code",
   "execution_count": 9,
   "metadata": {
    "collapsed": true
   },
   "outputs": [],
   "source": [
    "clean_up = VectorAssembler(inputCols=['tf_idf','length'],outputCol='features')\n"
   ]
  },
  {
   "cell_type": "code",
   "execution_count": 10,
   "metadata": {},
   "outputs": [
    {
     "name": "stdout",
     "output_type": "stream",
     "text": [
      "+--------------------+-----+------+\n",
      "|                text|class|length|\n",
      "+--------------------+-----+------+\n",
      "|Cameron'dan 'krit...|dunya|  1505|\n",
      "|Mısır'da referand...|dunya|   927|\n",
      "|İran'ın Patriot t...|dunya|   899|\n",
      "|Savcı, o çavuş iç...|dunya|   752|\n",
      "|Fransız haber aja...|dunya|   769|\n",
      "|Talabani, Ali Xey...|dunya|  2093|\n",
      "|İşte İran'ın son ...|dunya|  1310|\n",
      "|El Pais: PKK'lıla...|dunya|  1727|\n",
      "|Ünlü spekülatörde...|dunya|   885|\n",
      "|Çocuklarını kafes...|dunya|   972|\n",
      "|Ölü çocuklar ajan...|dunya|  1579|\n",
      "|Ahmedinejad'a aya...|dunya|   535|\n",
      "|Azerbaycan sınırı...|dunya|   379|\n",
      "|Kerkükte patlama:...|dunya|   639|\n",
      "|İsrailde derin ç...|dunya|  2971|\n",
      "|İsrail askerleri ...|dunya|  1013|\n",
      "|Cezayir'de rehine...|dunya|  1818|\n",
      "|Katalonlar, İspan...|dunya|   662|\n",
      "|Fransa’dan Mali'y...|dunya|   891|\n",
      "|'Türkiye'ye yardı...|dunya|  1349|\n",
      "+--------------------+-----+------+\n",
      "only showing top 20 rows\n",
      "\n",
      "None\n"
     ]
    }
   ],
   "source": [
    "#Use defaults\n",
    "nb = NaiveBayes()\n",
    "\n",
    "data_prep_pipe = Pipeline(stages=[news_to_num,tokenizer,count_vec,idf,clean_up])\n",
    "\n",
    "print(data.show())"
   ]
  },
  {
   "cell_type": "code",
   "execution_count": 11,
   "metadata": {},
   "outputs": [
    {
     "name": "stdout",
     "output_type": "stream",
     "text": [
      "root\n",
      " |-- text: string (nullable = true)\n",
      " |-- class: string (nullable = true)\n",
      " |-- length: integer (nullable = true)\n",
      " |-- label: double (nullable = false)\n",
      " |-- token_text: array (nullable = true)\n",
      " |    |-- element: string (containsNull = true)\n",
      " |-- c_vec: vector (nullable = true)\n",
      " |-- tf_idf: vector (nullable = true)\n",
      " |-- features: vector (nullable = true)\n",
      "\n",
      "root\n",
      " |-- label: double (nullable = false)\n",
      " |-- features: vector (nullable = true)\n",
      "\n",
      "None\n"
     ]
    }
   ],
   "source": [
    "cleaner = data_prep_pipe.fit(data)\n",
    "clean_data = cleaner.transform(data)\n",
    "clean_data.printSchema()\n",
    "clean_data = clean_data.select(['label','features'])\n",
    "\n",
    "#clean_data.show()\n",
    "print(clean_data.printSchema())\n"
   ]
  },
  {
   "cell_type": "code",
   "execution_count": 14,
   "metadata": {},
   "outputs": [
    {
     "name": "stdout",
     "output_type": "stream",
     "text": [
      "root\n",
      " |-- text: string (nullable = true)\n",
      " |-- class: string (nullable = true)\n",
      " |-- length: integer (nullable = true)\n",
      "\n",
      "+-----+--------------------+--------------------+--------------------+----------+\n",
      "|label|            features|       rawPrediction|         probability|prediction|\n",
      "+-----+--------------------+--------------------+--------------------+----------+\n",
      "|  2.0|(262145,[0,1,2,3,...|[-35203.802824962...|[0.0,0.0,1.855056...|       5.0|\n",
      "|  2.0|(262145,[0,1,2,3,...|[-30328.480389016...|[0.0,0.0,1.0,0.0,...|       2.0|\n",
      "|  2.0|(262145,[0,1,2,3,...|[-21018.004549035...|[0.0,1.0,3.239359...|       1.0|\n",
      "|  2.0|(262145,[0,1,2,3,...|[-7666.4990075850...|[3.58509348667199...|       4.0|\n",
      "|  2.0|(262145,[0,1,2,3,...|[-12011.915689776...|[0.0,2.4305033082...|       2.0|\n",
      "|  2.0|(262145,[0,1,2,3,...|[-16866.527661694...|[0.0,0.0,1.0,0.0,...|       2.0|\n",
      "|  2.0|(262145,[0,1,2,3,...|[-11659.893671887...|[0.0,3.2671857830...|       2.0|\n",
      "|  2.0|(262145,[0,1,2,3,...|[-13811.781068378...|[0.0,0.0,1.0,0.0,...|       2.0|\n",
      "|  2.0|(262145,[0,1,2,3,...|[-14305.913520780...|[0.0,8.1701891034...|       2.0|\n",
      "|  2.0|(262145,[0,1,2,3,...|[-9769.1044695486...|[0.0,1.0980040593...|       2.0|\n",
      "|  2.0|(262145,[0,1,2,3,...|[-7190.0085672253...|[2.74223397394746...|       2.0|\n",
      "|  2.0|(262145,[0,1,2,3,...|[-5059.2578506623...|[6.89410353508998...|       2.0|\n",
      "|  2.0|(262145,[0,1,2,4,...|[-8814.0447149411...|[0.0,1.4672492824...|       2.0|\n",
      "|  2.0|(262145,[0,1,2,4,...|[-5452.6087729281...|[2.64962667164149...|       4.0|\n",
      "|  2.0|(262145,[0,1,2,5,...|[-6724.4789776418...|[0.0,1.6831759264...|       2.0|\n",
      "|  2.0|(262145,[0,1,2,6,...|[-6912.9481670824...|[2.94767940533687...|       2.0|\n",
      "|  2.0|(262145,[0,1,2,8,...|[-12587.594435585...|[0.0,0.0,1.0,0.0,...|       2.0|\n",
      "|  2.0|(262145,[0,1,2,16...|[-4586.2667161640...|[0.0,4.2221568889...|       2.0|\n",
      "|  2.0|(262145,[0,1,2,30...|[-3040.2162858269...|[4.52428817802726...|       2.0|\n",
      "|  2.0|(262145,[0,1,3,4,...|[-13815.020639517...|[0.0,0.0,0.0,0.0,...|       4.0|\n",
      "+-----+--------------------+--------------------+--------------------+----------+\n",
      "only showing top 20 rows\n",
      "\n",
      "None\n",
      "Accuracy of model at predicting news was: 0.7542724839953737\n"
     ]
    }
   ],
   "source": [
    "(training,testing) = clean_data.randomSplit([0.8,0.2])\n",
    "spam_predictor = nb.fit(training)\n",
    "data.printSchema()\n",
    "test_results = spam_predictor.transform(testing)\n",
    "print(test_results.show())\n",
    "\n",
    "acc_eval = MulticlassClassificationEvaluator()\n",
    "acc = acc_eval.evaluate(test_results)\n",
    "print(\"Accuracy of model at predicting news was: {}\".format(acc))\n"
   ]
  }
 ],
 "metadata": {
  "kernelspec": {
   "display_name": "Python 3",
   "language": "python",
   "name": "python3"
  },
  "language_info": {
   "codemirror_mode": {
    "name": "ipython",
    "version": 3
   },
   "file_extension": ".py",
   "mimetype": "text/x-python",
   "name": "python",
   "nbconvert_exporter": "python",
   "pygments_lexer": "ipython3",
   "version": "3.6.4"
  }
 },
 "nbformat": 4,
 "nbformat_minor": 2
}
