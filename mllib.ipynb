{
 "cells": [
  {
   "cell_type": "code",
   "execution_count": 1,
   "metadata": {
    "collapsed": true
   },
   "outputs": [],
   "source": [
    "import findspark\n",
    "findspark.init('/home/halil/anaconda/lib/python3.6/site-packages/pyspark')  #Anaconda spark location"
   ]
  },
  {
   "cell_type": "code",
   "execution_count": 2,
   "metadata": {
    "collapsed": true
   },
   "outputs": [],
   "source": [
    "#Control = http://localhost:4040/\n",
    "\n",
    "from pyspark import SparkContext, SparkConf\n",
    "from pyspark.mllib.classification import NaiveBayes, NaiveBayesModel\n",
    "from pyspark.mllib.regression import LabeledPoint\n",
    "from pyspark.mllib.feature import HashingTF,IDF\n",
    "from pyspark.mllib.linalg import Vectors\n",
    "from pyspark.mllib.classification import NaiveBayes, NaiveBayesModel\n",
    "\n",
    "import re\n",
    "import string\n",
    "import Stemmer\n"
   ]
  },
  {
   "cell_type": "code",
   "execution_count": 3,
   "metadata": {
    "collapsed": true
   },
   "outputs": [],
   "source": [
    "#Setting property\n",
    "\n",
    "conf = SparkConf()\n",
    "conf.setAppName('mllib')\n",
    "conf.set(\"spark.driver.memory\",'8g')\n",
    "conf.set(\"spark.executor.memory\", '8g')\n",
    "conf.setMaster('local[8]')\n",
    "sc = SparkContext(\n",
    "    conf=conf)"
   ]
  },
  {
   "cell_type": "code",
   "execution_count": 4,
   "metadata": {
    "collapsed": true,
    "nbpresent": {
     "id": "7a11a6d8-edec-43c8-8949-84bf1300b63a"
    }
   },
   "outputs": [],
   "source": [
    "#Preprocessing\n",
    "\n",
    "def tokenize_stem(doc):\n",
    "\n",
    "    cleaned_doc = remove_punctuation(doc)\n",
    "    tokens = cleaned_doc.split()\n",
    "    stemmed_tokens = []\n",
    "   \n",
    "    for token in tokens:\n",
    "        stem_token = stemmer(token)\n",
    "        stemmed_tokens.append(stem_token)\n",
    "\n",
    "    return stemmed_tokens\n",
    "\n",
    "\n",
    "def token_stem_merge(doc):\n",
    "    tokenized_doc = tokenize_stem(doc)\n",
    "    merged_token = \"\"\n",
    "\n",
    "    for token in tokenized_doc:\n",
    "         merged_token += token + \" \"\n",
    "\n",
    "    return merged_token.strip()\n",
    "\n",
    "\n",
    "def stemmer(words):\n",
    "    \n",
    "    stemmer = Stemmer.Stemmer('turkish')\n",
    "    return stemmer.stemWord(words)\n",
    "\n",
    "\n",
    "def remove_punctuation(doc):\n",
    "    delete_chars = string.digits + string.punctuation\n",
    "    doc = remove_html_tags(doc).lower()\n",
    "    doc = str(doc).translate(str.maketrans('', '', delete_chars))\\\n",
    "            .replace(\"\\r\", \" \").replace(\"\\n\", \" \").replace(\"“\", \" \").replace(\"’\", \" \")\\\n",
    "            .replace(\"\", \" \").replace(\"\", \" \").replace(\"\", \" \").replace(\"\", \" \").replace(\"‘\", \" \")\\\n",
    "            .replace(\"…\", \" \").replace(\"'\", \" \")\n",
    "\n",
    "    doc = \" \".join(doc.split())\n",
    "    return doc\n",
    "\n",
    "def remove_html_tags(doc):\n",
    "    cleanr = re.compile('<.*?>')\n",
    "    cleantext = re.sub(cleanr, '', doc)\n",
    "    return cleantext\n"
   ]
  },
  {
   "cell_type": "code",
   "execution_count": 5,
   "metadata": {},
   "outputs": [
    {
     "data": {
      "text/plain": [
       "['gün', 'geçmiyorki', 'olay', 'olma']"
      ]
     },
     "execution_count": 5,
     "metadata": {},
     "output_type": "execute_result"
    }
   ],
   "source": [
    "tokenize_stem(\"Gün geçmiyorki olaylar olmasın.\")"
   ]
  },
  {
   "cell_type": "code",
   "execution_count": 6,
   "metadata": {},
   "outputs": [
    {
     "name": "stdout",
     "output_type": "stream",
     "text": [
      "2792\n",
      "2792\n",
      "2792\n",
      "2792\n",
      "2792\n",
      "2792\n",
      "sum news :   16752\n"
     ]
    }
   ],
   "source": [
    "#Data load\n",
    "\n",
    "dunya_list = []\n",
    "ekonomi_list = []\n",
    "genel_list = []\n",
    "guncel_list = []\n",
    "magazin_list = []\n",
    "spor_list = []\n",
    "\n",
    "rootdir = \"16752news\"\n",
    "\n",
    "import os\n",
    "\n",
    "\n",
    "# files are read end labeled\n",
    "for directories, subdirs, files in os.walk(rootdir):\n",
    "    if (os.path.split(directories)[1] == 'dunya'):\n",
    "        for filename in files:\n",
    "            with open(os.path.join(directories, filename), encoding=\"UTF-8\") as f:\n",
    "                data = f.read()\n",
    "                data = tokenize_stem(data)\n",
    "                dunya_list.append(data)  # added to list\n",
    "\n",
    "    if (os.path.split(directories)[1] == 'ekonomi'):\n",
    "        for filename in files:\n",
    "            with open(os.path.join(directories, filename), encoding=\"UTF-8\") as f:\n",
    "                data = f.read()\n",
    "                data = tokenize_stem(data)\n",
    "                ekonomi_list.append(data)\n",
    "\n",
    "    if (os.path.split(directories)[1] == 'genel'):\n",
    "        for filename in files:\n",
    "            with open(os.path.join(directories, filename), encoding=\"UTF-8\") as f:\n",
    "                data = f.read()\n",
    "                data = tokenize_stem(data)\n",
    "                genel_list.append(data)\n",
    "\n",
    "    if (os.path.split(directories)[1] == 'guncel'):\n",
    "        for filename in files:\n",
    "            with open(os.path.join(directories, filename), encoding=\"UTF-8\") as f:\n",
    "                data = f.read()\n",
    "                data = tokenize_stem(data)\n",
    "                guncel_list.append(data)\n",
    "\n",
    "\n",
    "    if (os.path.split(directories)[1] == 'magazin'):\n",
    "        for filename in files:\n",
    "            with open(os.path.join(directories, filename), encoding=\"UTF-8\") as f:\n",
    "                data = f.read()\n",
    "                data = tokenize_stem(data)\n",
    "                magazin_list.append(data)  # added to list\n",
    "\n",
    "\n",
    "    if (os.path.split(directories)[1] == 'spor'):\n",
    "        for filename in files:\n",
    "            with open(os.path.join(directories, filename), encoding=\"UTF-8\") as f:\n",
    "                data = f.read()\n",
    "                data = tokenize_stem(data)\n",
    "                spor_list.append(data)\n",
    "\n",
    "\n",
    "print(len(dunya_list))\n",
    "print(len(ekonomi_list))\n",
    "print(len(genel_list))\n",
    "print(len(guncel_list))\n",
    "print(len(magazin_list))\n",
    "print(len(spor_list))\n",
    "\n",
    "combined_list = []\n",
    "\n",
    "combined_list = dunya_list + ekonomi_list + genel_list + guncel_list  + magazin_list  + spor_list\n",
    "print(\"sum news :  \", len(combined_list))\n",
    "\n",
    "\n",
    "dunya_bag = sc.parallelize(dunya_list)\n",
    "ekonomi_bag = sc.parallelize(ekonomi_list)\n",
    "genel_bag = sc.parallelize(genel_list)\n",
    "guncel_bag = sc.parallelize(guncel_list)\n",
    "magazin_bag = sc.parallelize(magazin_list)\n",
    "spor_bag = sc.parallelize(spor_list)\n",
    "\n"
   ]
  },
  {
   "cell_type": "code",
   "execution_count": 7,
   "metadata": {},
   "outputs": [
    {
     "name": "stdout",
     "output_type": "stream",
     "text": [
      "['camero', 'kritik', 'ab', 'konuşmas', 'lider', 'olduk', 'muhafazakar', 'parti', 'iç', 'ab', 'ye', 'şüphe', 'baka', 'üye', 'taraf', 'uz', 'sür', 'baskı', 'alt', 'ola', 've', 'ab', 'ye', 'faz', 'taviz', 'vermek', 'eleştirile', 'davidi', 'camero', 'ın', 'te', 'yapılacak', 'genel', 'seç', 'kazanmas', 'hal', 'ülke', 'ab', 'üyelik', 'ilgil', 'referandı', 'gidilecek', 'söylemes', 'öngörülüyor', 'camero', 'ın', 'geçe', 'haf', 'holla', 'da', 'yapacak', 'konuşma', 'cezayir', 'dek', 'reh', 'kriz', 'neden', 'ertelenmiş', 'brükseldeki̇', 'yetki̇', 'azalacak', 'i̇ngilter', 'dek', 'koalisyo', 'hükümet', 'büyük', 'ortak', 'muhafazakar', 'parti', 'yasal', 'hak', 'adalet', 'siste', 'gip', 'konu', 'brüksel', 'dek', 'yetki', 'azaltmak', 'istiyor', 'davidi', 'camero', 'i̇ngilter', 'nin', 'ab', 'de', 'kalmas', 'gerektik', 'söylüyor', 'ancak', 'ülke', 'çıkar', 'brüksel', 'in', 'çıkar', 'ön', 'geldik', 'de', 'savunuyor', 'i̇ngilter', 'başbakan', 'konuşma', 'ab', 'de', 'önemli', 'bir', 'mesaj', 'olarak', 'algılanmas', 've', 'tartışma', 'yol', 'açmas', 'bekleniyor', 'referendi', 'si̇yasetçi̇', 'karşi', 'camero', 'ın', 'referandı', 'gidilmes', 'plan', 'baş', 'koalisyo', 'ortak', 'liberal', 'demokrat', 'parti', 'olmak', 'üzer', 'çok', 'sayı', 'siyasetçi', 'karşı', 'çıkıyor', 'başbaka', 'yardımcıs', 've', 'liberal', 'demokrat', 'parti', 'lider', 'nick', 'clegg', 'referandı', 'öneri', 'belirsizlik', 've', 'ülke', 'ekonomik', 'büyüme', 'ilgil', 'gereksiz', 'bir', 'rahatlama', 'ne', 'olacak', 'söylüyor', 'i̇ngilter', 'nin', 'müttefik', 'abd', 'de', 'i̇ngilter', 'nin', 'ab', 'den', 'ayrılma', 'olumsuz', 'sonuç', 'doğuracak', 'bildiriyor', 'avro', 'bölge', 'olmama', 'karş', 'avrup', 'daki', 'ekonomik', 'kriz', 'doğru', 'etkilene', 'i̇ngilter', 'yıl', 'bu', 'ya', 'birlik', 'üyelik', 'sürdürüyor']\n"
     ]
    }
   ],
   "source": [
    "print(dunya_bag.collect()[0])"
   ]
  },
  {
   "cell_type": "code",
   "execution_count": 8,
   "metadata": {
    "nbpresent": {
     "id": "a3fe0616-1e48-49ba-897c-68aef1091076"
    }
   },
   "outputs": [
    {
     "data": {
      "text/plain": [
       "PythonRDD[11] at RDD at PythonRDD.scala:53"
      ]
     },
     "execution_count": 8,
     "metadata": {},
     "output_type": "execute_result"
    }
   ],
   "source": [
    "# TF Mapping\n",
    "dunya_tf = HashingTF().transform(dunya_bag)\n",
    "ekonomi_tf = HashingTF().transform(ekonomi_bag)\n",
    "genel_tf = HashingTF().transform(genel_bag)\n",
    "guncel_tf = HashingTF().transform(guncel_bag)\n",
    "magazin_tf = HashingTF().transform(magazin_bag)\n",
    "spor_tf = HashingTF().transform(spor_bag)\n",
    "\n",
    "\n",
    "dunya_tf.cache()\n",
    "ekonomi_tf.cache()\n",
    "genel_tf.cache()\n",
    "guncel_tf.cache()\n",
    "magazin_tf.cache()\n",
    "spor_tf.cache()\n"
   ]
  },
  {
   "cell_type": "code",
   "execution_count": 9,
   "metadata": {},
   "outputs": [
    {
     "name": "stdout",
     "output_type": "stream",
     "text": [
      "(1048576,[15703,18510,27992,35334,39791,55038,69342,69879,72205,83543,93623,95022,96263,114863,115023,128943,142051,150860,156099,177083,194923,197608,199186,206229,211902,230732,251270,259228,283821,288081,308718,317549,317637,318552,319905,337828,338407,343040,344240,364370,367631,372029,373547,381787,382299,386511,394354,395788,404338,422515,444233,446311,454801,458702,460864,462919,466544,471644,478747,481515,503686,511205,523349,523958,527028,549056,551106,566297,575751,576289,588182,601305,622156,623132,626926,629201,661793,668664,669938,678702,690821,692189,692384,705499,713323,718825,720705,736943,739088,758462,763908,766936,769017,774116,782300,782309,782526,785341,794909,795781,801756,802440,815331,841422,848023,864485,870710,873253,875517,876235,886421,892790,894973,904484,905319,912786,913532,914631,917145,917598,919187,933913,942083,945174,952491,953367,965406,972225,989250,991546,997716,1002434,1010688,1025814,1026602,1028489,1033214,1037770],[1.0,1.0,1.0,1.0,1.0,1.0,1.0,2.0,1.0,1.0,1.0,1.0,1.0,2.0,1.0,1.0,1.0,1.0,2.0,1.0,1.0,1.0,1.0,1.0,1.0,1.0,1.0,1.0,2.0,1.0,1.0,2.0,1.0,1.0,2.0,1.0,1.0,1.0,1.0,1.0,2.0,2.0,1.0,1.0,1.0,1.0,1.0,1.0,1.0,1.0,1.0,1.0,1.0,1.0,1.0,1.0,1.0,1.0,1.0,1.0,1.0,1.0,6.0,1.0,2.0,4.0,2.0,1.0,1.0,1.0,1.0,1.0,1.0,1.0,1.0,1.0,1.0,1.0,1.0,1.0,1.0,1.0,1.0,1.0,1.0,1.0,1.0,1.0,1.0,7.0,2.0,1.0,2.0,1.0,1.0,1.0,4.0,1.0,1.0,3.0,1.0,1.0,1.0,1.0,1.0,5.0,2.0,1.0,1.0,4.0,1.0,3.0,1.0,1.0,1.0,1.0,1.0,1.0,1.0,1.0,3.0,1.0,1.0,2.0,2.0,1.0,3.0,3.0,1.0,1.0,1.0,1.0,2.0,1.0,2.0,1.0,1.0,1.0])\n"
     ]
    }
   ],
   "source": [
    "print(dunya_tf.collect()[0])"
   ]
  },
  {
   "cell_type": "code",
   "execution_count": 10,
   "metadata": {
    "collapsed": true,
    "nbpresent": {
     "id": "323e4b2d-486f-4f85-9847-7758acf3176b"
    }
   },
   "outputs": [],
   "source": [
    "#IDF transformation\n",
    "dunya_idf = IDF().fit(dunya_tf)\n",
    "ekonomi_idf = IDF().fit(ekonomi_tf)\n",
    "genel_idf = IDF().fit(genel_tf)\n",
    "guncel_idf = IDF().fit(guncel_tf)\n",
    "magazin_idf = IDF().fit(magazin_tf)\n",
    "spor_idf = IDF().fit(spor_tf)"
   ]
  },
  {
   "cell_type": "code",
   "execution_count": 11,
   "metadata": {},
   "outputs": [
    {
     "data": {
      "text/plain": [
       "<pyspark.mllib.feature.IDFModel at 0x7fa1e33364e0>"
      ]
     },
     "execution_count": 11,
     "metadata": {},
     "output_type": "execute_result"
    }
   ],
   "source": [
    "dunya_idf"
   ]
  },
  {
   "cell_type": "code",
   "execution_count": 12,
   "metadata": {
    "collapsed": true,
    "nbpresent": {
     "id": "b3ab40eb-ec1b-4e8d-8173-ee7ecb08ea28"
    }
   },
   "outputs": [],
   "source": [
    "#Tf-idf\n",
    "dunya_tfidf = dunya_idf.transform(dunya_tf)\n",
    "ekonomi_tfidf = ekonomi_idf.transform(ekonomi_tf)\n",
    "genel_tfidf = genel_idf.transform(genel_tf)\n",
    "guncel_tfidf = guncel_idf.transform(guncel_tf)\n",
    "magazin_tfidf = magazin_idf.transform(magazin_tf)\n",
    "spor_tfidf = spor_idf.transform(spor_tf)\n",
    "\n"
   ]
  },
  {
   "cell_type": "code",
   "execution_count": 13,
   "metadata": {},
   "outputs": [
    {
     "data": {
      "text/plain": [
       "MapPartitionsRDD[51] at mapPartitions at PythonMLLibAPI.scala:1336"
      ]
     },
     "execution_count": 13,
     "metadata": {},
     "output_type": "execute_result"
    }
   ],
   "source": [
    "dunya_tfidf"
   ]
  },
  {
   "cell_type": "code",
   "execution_count": 14,
   "metadata": {},
   "outputs": [
    {
     "name": "stdout",
     "output_type": "stream",
     "text": [
      "(1048576,[15703,18510,27992,35334,39791,55038,69342,69879,72205,83543,93623,95022,96263,114863,115023,128943,142051,150860,156099,177083,194923,197608,199186,206229,211902,230732,251270,259228,283821,288081,308718,317549,317637,318552,319905,337828,338407,343040,344240,364370,367631,372029,373547,381787,382299,386511,394354,395788,404338,422515,444233,446311,454801,458702,460864,462919,466544,471644,478747,481515,503686,511205,523349,523958,527028,549056,551106,566297,575751,576289,588182,601305,622156,623132,626926,629201,661793,668664,669938,678702,690821,692189,692384,705499,713323,718825,720705,736943,739088,758462,763908,766936,769017,774116,782300,782309,782526,785341,794909,795781,801756,802440,815331,841422,848023,864485,870710,873253,875517,876235,886421,892790,894973,904484,905319,912786,913532,914631,917145,917598,919187,933913,942083,945174,952491,953367,965406,972225,989250,991546,997716,1002434,1010688,1025814,1026602,1028489,1033214,1037770],[4.3239536533,3.23439120015,4.71599574108,6.14311209672,4.99043258678,4.24599211183,2.87227653292,0.458317484101,5.73764698861,4.43836400448,1.05551576148,2.70912489223,1.5148766378,8.21246033891,3.82399770177,7.24172438539,6.83625927728,4.99043258678,8.12734111007,4.22129949924,2.41741866948,2.31085405976,2.38191198102,3.65820544693,1.55984674612,2.6216655869,2.70912489223,1.40691364832,3.94258444465,4.60266705577,7.24172438539,7.71466824408,7.24172438539,4.29728540622,2.95620382075,1.60872209279,4.02284856052,3.56542371348,5.44996491616,1.79498701372,7.34438337781,8.00609186644,2.0026263785,4.12820907617,3.01489064012,4.04305126783,0.595983432106,1.75692745189,6.83625927728,1.75072267501,2.59733348624,2.74191471505,1.67529010188,1.7842687975,1.94340701884,1.72026346752,2.41741866948,1.53960996783,2.89791896353,4.35135262749,2.6365541994,4.60266705577,17.95937486,6.32543365351,5.41824978446,9.46610824874,4.85908006003,3.76048429605,2.71993580834,2.25811776368,5.53697629315,1.9211564099,1.01124293781,5.73764698861,2.20153028905,2.13275319057,1.99997737033,3.55284493127,4.7568177356,4.02284856052,5.98896141689,2.7253854131,3.8077371809,5.29581423633,2.14491139505,2.51877116374,1.73842743815,1.90178534415,1.14477433043,22.2689696239,2.67272507466,4.63903469994,5.48382943011,5.04449980805,5.63228647295,2.93765929218,0.626640365731,4.71599574108,4.3239536533,12.1291538035,6.14311209672,5.22682136484,5.98896141689,1.30947919794,1.82562398318,20.9860097383,7.7488571108,3.59106614409,0.592092376613,2.08843019407,5.29581423633,6.96523037867,0.517891944564,1.27814504177,4.43836400448,4.63903469994,4.27130991982,1.87341464702,1.06585711528,2.28589732778,8.52336409542,2.78737708913,5.16228284371,7.08084482255,6.07406353199,3.45753475147,2.84214395683,5.80037006395,0.555863438317,1.2641052451,1.85952553486,5.53697629315,8.93827132629,3.73017894655,5.54017118404,1.53129736801,1.93841947733,1.91871440625])\n"
     ]
    }
   ],
   "source": [
    "print(dunya_tfidf.collect()[0])"
   ]
  },
  {
   "cell_type": "code",
   "execution_count": 15,
   "metadata": {
    "collapsed": true,
    "nbpresent": {
     "id": "954434d8-26ac-46d9-bb82-c666c4aafec7"
    }
   },
   "outputs": [],
   "source": [
    "#Label 1,2,3,4,5 and 6\n",
    "\n",
    "dunya_tfidf_label = dunya_tfidf.map(lambda x: LabeledPoint('1', x))\n",
    "ekonomi_tfidf_label = ekonomi_tfidf.map(lambda x: LabeledPoint('2', x))\n",
    "genel_tfidf_label = genel_tfidf.map(lambda x: LabeledPoint('3', x))\n",
    "guncel_tfidf_label = guncel_tfidf.map(lambda x: LabeledPoint('4', x))\n",
    "magazin_tfidf_label = magazin_tfidf.map(lambda x: LabeledPoint('5', x))\n",
    "spor_tfidf_label = spor_tfidf.map(lambda x: LabeledPoint('6', x))"
   ]
  },
  {
   "cell_type": "code",
   "execution_count": 16,
   "metadata": {},
   "outputs": [
    {
     "data": {
      "text/plain": [
       "PythonRDD[72] at RDD at PythonRDD.scala:53"
      ]
     },
     "execution_count": 16,
     "metadata": {},
     "output_type": "execute_result"
    }
   ],
   "source": [
    "dunya_tfidf_label"
   ]
  },
  {
   "cell_type": "code",
   "execution_count": 17,
   "metadata": {},
   "outputs": [
    {
     "data": {
      "text/plain": [
       "LabeledPoint(1.0, (1048576,[15703,18510,27992,35334,39791,55038,69342,69879,72205,83543,93623,95022,96263,114863,115023,128943,142051,150860,156099,177083,194923,197608,199186,206229,211902,230732,251270,259228,283821,288081,308718,317549,317637,318552,319905,337828,338407,343040,344240,364370,367631,372029,373547,381787,382299,386511,394354,395788,404338,422515,444233,446311,454801,458702,460864,462919,466544,471644,478747,481515,503686,511205,523349,523958,527028,549056,551106,566297,575751,576289,588182,601305,622156,623132,626926,629201,661793,668664,669938,678702,690821,692189,692384,705499,713323,718825,720705,736943,739088,758462,763908,766936,769017,774116,782300,782309,782526,785341,794909,795781,801756,802440,815331,841422,848023,864485,870710,873253,875517,876235,886421,892790,894973,904484,905319,912786,913532,914631,917145,917598,919187,933913,942083,945174,952491,953367,965406,972225,989250,991546,997716,1002434,1010688,1025814,1026602,1028489,1033214,1037770],[4.3239536533,3.23439120015,4.71599574108,6.14311209672,4.99043258678,4.24599211183,2.87227653292,0.458317484101,5.73764698861,4.43836400448,1.05551576148,2.70912489223,1.5148766378,8.21246033891,3.82399770177,7.24172438539,6.83625927728,4.99043258678,8.12734111007,4.22129949924,2.41741866948,2.31085405976,2.38191198102,3.65820544693,1.55984674612,2.6216655869,2.70912489223,1.40691364832,3.94258444465,4.60266705577,7.24172438539,7.71466824408,7.24172438539,4.29728540622,2.95620382075,1.60872209279,4.02284856052,3.56542371348,5.44996491616,1.79498701372,7.34438337781,8.00609186644,2.0026263785,4.12820907617,3.01489064012,4.04305126783,0.595983432106,1.75692745189,6.83625927728,1.75072267501,2.59733348624,2.74191471505,1.67529010188,1.7842687975,1.94340701884,1.72026346752,2.41741866948,1.53960996783,2.89791896353,4.35135262749,2.6365541994,4.60266705577,17.95937486,6.32543365351,5.41824978446,9.46610824874,4.85908006003,3.76048429605,2.71993580834,2.25811776368,5.53697629315,1.9211564099,1.01124293781,5.73764698861,2.20153028905,2.13275319057,1.99997737033,3.55284493127,4.7568177356,4.02284856052,5.98896141689,2.7253854131,3.8077371809,5.29581423633,2.14491139505,2.51877116374,1.73842743815,1.90178534415,1.14477433043,22.2689696239,2.67272507466,4.63903469994,5.48382943011,5.04449980805,5.63228647295,2.93765929218,0.626640365731,4.71599574108,4.3239536533,12.1291538035,6.14311209672,5.22682136484,5.98896141689,1.30947919794,1.82562398318,20.9860097383,7.7488571108,3.59106614409,0.592092376613,2.08843019407,5.29581423633,6.96523037867,0.517891944564,1.27814504177,4.43836400448,4.63903469994,4.27130991982,1.87341464702,1.06585711528,2.28589732778,8.52336409542,2.78737708913,5.16228284371,7.08084482255,6.07406353199,3.45753475147,2.84214395683,5.80037006395,0.555863438317,1.2641052451,1.85952553486,5.53697629315,8.93827132629,3.73017894655,5.54017118404,1.53129736801,1.93841947733,1.91871440625]))"
      ]
     },
     "execution_count": 17,
     "metadata": {},
     "output_type": "execute_result"
    }
   ],
   "source": [
    "dunya_tfidf_label.collect()[0]"
   ]
  },
  {
   "cell_type": "code",
   "execution_count": 18,
   "metadata": {
    "nbpresent": {
     "id": "d87f78cc-a9a0-44a0-b4c0-a532fa0a6cb8"
    }
   },
   "outputs": [
    {
     "data": {
      "text/plain": [
       "UnionRDD[94] at union at NativeMethodAccessorImpl.java:0"
      ]
     },
     "execution_count": 18,
     "metadata": {},
     "output_type": "execute_result"
    }
   ],
   "source": [
    "#Split news data 80/20 into training and test data sets\n",
    "dtrain, dtest = dunya_tfidf_label.randomSplit([0.8, 0.2],seed=0)\n",
    "etrain, etest = ekonomi_tfidf_label.randomSplit([0.8, 0.2],seed = 0)\n",
    "gtrain, gtest = genel_tfidf_label.randomSplit([0.8, 0.2],seed = 0)\n",
    "gutrain, gutest = guncel_tfidf_label.randomSplit([0.8, 0.2],seed = 0)\n",
    "mtrain, mtest = magazin_tfidf_label.randomSplit([0.8, 0.2],seed = 0)\n",
    "strain, stest = spor_tfidf_label.randomSplit([0.8, 0.2],seed = 0)\n",
    "\n",
    "\n",
    "\n",
    "train1 = dtrain.union(etrain)\n",
    "train2 = train1.union(gtrain)\n",
    "train3 = train2.union(gutrain)\n",
    "train4 = train3.union(mtrain)\n",
    "trainh = train4.union(strain)\n",
    "\n",
    "\n",
    "\n",
    "test1=dtest.union(etest)\n",
    "test2=test1.union(gtest)\n",
    "test3=test2.union(gutest)\n",
    "test4=test3.union(mtest)\n",
    "testh=test4.union(stest)\n",
    "\n",
    "\n",
    "\n",
    "\n",
    "trainh.cache()\n",
    "testh.cache()"
   ]
  },
  {
   "cell_type": "code",
   "execution_count": 19,
   "metadata": {
    "collapsed": true
   },
   "outputs": [],
   "source": [
    "latest_train = trainh.union(testh)"
   ]
  },
  {
   "cell_type": "code",
   "execution_count": 20,
   "metadata": {},
   "outputs": [
    {
     "data": {
      "text/plain": [
       "LabeledPoint(1.0, (1048576,[15703,18510,27992,35334,39791,55038,69342,69879,72205,83543,93623,95022,96263,114863,115023,128943,142051,150860,156099,177083,194923,197608,199186,206229,211902,230732,251270,259228,283821,288081,308718,317549,317637,318552,319905,337828,338407,343040,344240,364370,367631,372029,373547,381787,382299,386511,394354,395788,404338,422515,444233,446311,454801,458702,460864,462919,466544,471644,478747,481515,503686,511205,523349,523958,527028,549056,551106,566297,575751,576289,588182,601305,622156,623132,626926,629201,661793,668664,669938,678702,690821,692189,692384,705499,713323,718825,720705,736943,739088,758462,763908,766936,769017,774116,782300,782309,782526,785341,794909,795781,801756,802440,815331,841422,848023,864485,870710,873253,875517,876235,886421,892790,894973,904484,905319,912786,913532,914631,917145,917598,919187,933913,942083,945174,952491,953367,965406,972225,989250,991546,997716,1002434,1010688,1025814,1026602,1028489,1033214,1037770],[4.3239536533,3.23439120015,4.71599574108,6.14311209672,4.99043258678,4.24599211183,2.87227653292,0.458317484101,5.73764698861,4.43836400448,1.05551576148,2.70912489223,1.5148766378,8.21246033891,3.82399770177,7.24172438539,6.83625927728,4.99043258678,8.12734111007,4.22129949924,2.41741866948,2.31085405976,2.38191198102,3.65820544693,1.55984674612,2.6216655869,2.70912489223,1.40691364832,3.94258444465,4.60266705577,7.24172438539,7.71466824408,7.24172438539,4.29728540622,2.95620382075,1.60872209279,4.02284856052,3.56542371348,5.44996491616,1.79498701372,7.34438337781,8.00609186644,2.0026263785,4.12820907617,3.01489064012,4.04305126783,0.595983432106,1.75692745189,6.83625927728,1.75072267501,2.59733348624,2.74191471505,1.67529010188,1.7842687975,1.94340701884,1.72026346752,2.41741866948,1.53960996783,2.89791896353,4.35135262749,2.6365541994,4.60266705577,17.95937486,6.32543365351,5.41824978446,9.46610824874,4.85908006003,3.76048429605,2.71993580834,2.25811776368,5.53697629315,1.9211564099,1.01124293781,5.73764698861,2.20153028905,2.13275319057,1.99997737033,3.55284493127,4.7568177356,4.02284856052,5.98896141689,2.7253854131,3.8077371809,5.29581423633,2.14491139505,2.51877116374,1.73842743815,1.90178534415,1.14477433043,22.2689696239,2.67272507466,4.63903469994,5.48382943011,5.04449980805,5.63228647295,2.93765929218,0.626640365731,4.71599574108,4.3239536533,12.1291538035,6.14311209672,5.22682136484,5.98896141689,1.30947919794,1.82562398318,20.9860097383,7.7488571108,3.59106614409,0.592092376613,2.08843019407,5.29581423633,6.96523037867,0.517891944564,1.27814504177,4.43836400448,4.63903469994,4.27130991982,1.87341464702,1.06585711528,2.28589732778,8.52336409542,2.78737708913,5.16228284371,7.08084482255,6.07406353199,3.45753475147,2.84214395683,5.80037006395,0.555863438317,1.2641052451,1.85952553486,5.53697629315,8.93827132629,3.73017894655,5.54017118404,1.53129736801,1.93841947733,1.91871440625]))"
      ]
     },
     "execution_count": 20,
     "metadata": {},
     "output_type": "execute_result"
    }
   ],
   "source": [
    "latest_train.collect()[0]"
   ]
  },
  {
   "cell_type": "code",
   "execution_count": 21,
   "metadata": {},
   "outputs": [
    {
     "name": "stdout",
     "output_type": "stream",
     "text": [
      "model accuracy 0.6965925925925925\n"
     ]
    }
   ],
   "source": [
    "train_data, test_data = latest_train.randomSplit([0.8, 0.2],seed=0)\n",
    "\n",
    "#Train a naive Bayes model.\n",
    "model = NaiveBayes.train(train_data, 1.0)\n",
    "\n",
    "#Make prediction and test accuracy.\n",
    "predictionAndLabel = test_data.map(lambda p: (model.predict(p.features), p.label))\n",
    "accuracy = 1.0 * predictionAndLabel.filter(lambda pl: pl[0] == pl[1]).count() / test_data.count()\n",
    "print('model accuracy {}'.format(accuracy))\n",
    "\n"
   ]
  }
 ],
 "metadata": {
  "kernelspec": {
   "display_name": "Python 3",
   "language": "python",
   "name": "python3"
  },
  "language_info": {
   "codemirror_mode": {
    "name": "ipython",
    "version": 3
   },
   "file_extension": ".py",
   "mimetype": "text/x-python",
   "name": "python",
   "nbconvert_exporter": "python",
   "pygments_lexer": "ipython3",
   "version": "3.6.4"
  }
 },
 "nbformat": 4,
 "nbformat_minor": 2
}
